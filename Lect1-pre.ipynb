{
 "cells": [
  {
   "cell_type": "markdown",
   "metadata": {},
   "source": [
    "# Physics 404/604\n",
    "\n",
    "## Computational Physics (Spring 2021)\n",
    "\n",
    "## Online\n",
    "\n",
    "| Instructor | Prof. Zhaohuan Zhu                 |\n",
    "| ---------- | :--------------------------------- |\n",
    "| Email      | zhaohuan.zhu@unlv.edu              |\n",
    "| Website    | http://www.physics.unlv.edu/~zhzhu |\n",
    "| Office     | BPB 245                            |\n",
    "\n",
    "\n",
    "\n",
    "# 1 Python Basics\n",
    "## 1.1 Python Installation\n",
    "\n",
    "## Conda (a little bit old, see README of the course)\n",
    "The best way set-up an scientific Python environment is to use the cross-platform package manager conda from Continuum Analytics. First download and install Anaconda https://www.anaconda.com/download/#macos (download Mac or Windows version depending on your operation system). Next, to install the required libraries for these notebooks, simply run following at your anaconda terminal :\n",
    "\n",
    "\t$ conda install jupyter spyder numpy scipy sympy matplotlib cython \n",
    "    \n",
    "To install vpython:  \n",
    "Fllow https://vpython.org/presentation2018/install.html\n",
    "In a Power Shell or Command Prompt (Windows) or Terminal (Mac / Linux) run this command, which will install VPython 7 for Python 2.7, 3.4, 3.5, or 3.6:   \n",
    "\n",
    "    $ pip install vpython  \n",
    "    \n",
    "  Or if using Anaconda, conda install -c vpython vpython   (For Python 3.7, you need to use pip install vpython)\n",
    "    \n",
    "After you installed jupyter, you could run it from the anaconda terminal \n",
    "\n",
    "    $ jupyter notebook\n",
    "    \n",
    "Then you can type python command and save it to your notebook\n",
    "\n",
    "## Viewing Jupyter notebook\n",
    "Sometimes the equations cannot be displayed correctly using the web browser. You can use nbview to get a better display for equations.\n",
    "https://nbviewer.jupyter.org/\n",
    "\n",
    "## Running Jupyter notebook online\n",
    "If you use the department computers, this may work \n",
    "(Please test this)\n",
    "https://jupyter.org/try"
   ]
  },
  {
   "cell_type": "code",
   "execution_count": 2,
   "metadata": {},
   "outputs": [
    {
     "name": "stdout",
     "output_type": "stream",
     "text": [
      "Welcome to Physics 404/604\n"
     ]
    }
   ],
   "source": [
    "#get started\n",
    "print(\"Welcome to Physics 404/604\")"
   ]
  },
  {
   "cell_type": "code",
   "execution_count": 7,
   "metadata": {},
   "outputs": [
    {
     "name": "stdout",
     "output_type": "stream",
     "text": [
      "1.0 <class 'float'>\n"
     ]
    }
   ],
   "source": [
    "print(x, type(x))"
   ]
  },
  {
   "cell_type": "code",
   "execution_count": null,
   "metadata": {},
   "outputs": [],
   "source": [
    "# In-Class Questions, which ones are valid\n",
    "_velocity=1\n",
    "1stvelocity=1\n",
    "vel1st=1\n",
    "_vel_1st=1\n",
    "vel#2=1\n",
    "vel)=1\n",
    "Name_Student=\"Joe\"\n",
    "_Name~student=\"Bob\""
   ]
  },
  {
   "cell_type": "markdown",
   "metadata": {},
   "source": [
    "Data Types  \n",
    "    Python has 5 data types  \n",
    "    * Numbers\n",
    "    * String\n",
    "    * List\n",
    "    * Tuple\n",
    "    * Dictionary\n"
   ]
  },
  {
   "cell_type": "code",
   "execution_count": 8,
   "metadata": {},
   "outputs": [],
   "source": [
    "# Numbers:\n",
    "# integers\n",
    "# float\n",
    "# bollean\n",
    "# complex\n",
    "a = 3\n",
    "b = 3.0\n",
    "c = True\n",
    "d = 3.+3.j"
   ]
  },
  {
   "cell_type": "code",
   "execution_count": 9,
   "metadata": {},
   "outputs": [
    {
     "name": "stdout",
     "output_type": "stream",
     "text": [
      "3 <class 'int'>\n",
      "3.0 <class 'float'>\n",
      "True <class 'bool'>\n",
      "(3+3j) <class 'complex'>\n"
     ]
    }
   ],
   "source": [
    "print(a, type(a))\n",
    "print(b, type(b))\n",
    "print(c, type(c))\n",
    "print(d, type(d))"
   ]
  },
  {
   "cell_type": "code",
   "execution_count": 10,
   "metadata": {},
   "outputs": [
    {
     "name": "stdout",
     "output_type": "stream",
     "text": [
      "welcome <class 'str'>\n"
     ]
    }
   ],
   "source": [
    "# String\n",
    "a = \"welcome\"\n",
    "print(a, type(a))\n"
   ]
  },
  {
   "cell_type": "code",
   "execution_count": 11,
   "metadata": {},
   "outputs": [
    {
     "name": "stdout",
     "output_type": "stream",
     "text": [
      "list index 2 = 3.4\n",
      "list index -1 =  4.5\n",
      "list index 2 to the end =  [3.4, 4.5]\n",
      "list index 0 to 2 =  [1, 'Hello', 3.4]\n"
     ]
    }
   ],
   "source": [
    "# List:\n",
    "# empty list\n",
    "my_list = []\n",
    "\n",
    "# list of integers\n",
    "my_list = [1, 2, 3]\n",
    "\n",
    "# list with mixed datatypes\n",
    "my_list = [1, \"Hello\", 3.4, 4.5]\n",
    "\n",
    "# access list through index, the index starts with 0\n",
    "print(\"list index 2 =\",my_list[2])\n",
    "\n",
    "# the index can be negative\n",
    "print(\"list index -1 = \",my_list[-1])\n",
    "\n",
    "# or you can select several elements in the list using colon\n",
    "print(\"list index 2 to the end = \",my_list[2:])\n",
    "print(\"list index 0 to 2 = \",my_list[0:3]) # note that 0:3 only select 0,1,2 index"
   ]
  },
  {
   "cell_type": "code",
   "execution_count": 13,
   "metadata": {},
   "outputs": [
    {
     "name": "stdout",
     "output_type": "stream",
     "text": [
      "[1, 2, 3, 4, 5]\n"
     ]
    }
   ],
   "source": [
    "# List are mutable, unlike string and tuple\n",
    "array=[1,3,2,5,5]\n",
    "\n",
    "# change the forth element\n",
    "array[3]=4\n",
    "\n",
    "# change the second and third elements\n",
    "array[1:3]=[2,3] # notice that 1:3 selects index 1,2\n",
    "\n",
    "print(array)"
   ]
  },
  {
   "cell_type": "code",
   "execution_count": 14,
   "metadata": {},
   "outputs": [
    {
     "name": "stdout",
     "output_type": "stream",
     "text": [
      "[1, 2, 3, 4, 5, 6]\n",
      "[2, 3, 4, 5, 6]\n"
     ]
    }
   ],
   "source": [
    "# add and delete element\n",
    "array.append(6)\n",
    "print(array)\n",
    "del array[0]\n",
    "print (array)"
   ]
  },
  {
   "cell_type": "code",
   "execution_count": 15,
   "metadata": {},
   "outputs": [
    {
     "name": "stdout",
     "output_type": "stream",
     "text": [
      "0 1 2 3 4 5 6 7 8 9\n",
      "-3 -1 1 3 5 7\n",
      "[1, 2, 4, 8, 16, 32, 64, 128, 256, 512]\n"
     ]
    }
   ],
   "source": [
    "# Ways to create a list\n",
    "index=range(10) # 9 numbers from 0 to 9\n",
    "index2=range(-3,9,2)\n",
    "print(*index)# * means unpack the sequence\n",
    "print(*index2)\n",
    "\n",
    "#Fancy way to create a list: List Comprehension\n",
    "pow2 = [2 ** x for x in range(10)]\n",
    "print(pow2)\n"
   ]
  },
  {
   "cell_type": "markdown",
   "metadata": {},
   "source": [
    " Dictionary: a collection of data e.g. this={\"brand\": \"Ford\", \"year\": 1964}\n",
    "\n",
    "Dictionaries and lists share the following characteristics:\n",
    "\n",
    "    Both are mutable.\n",
    "    Both are dynamic. They can grow and shrink as needed.\n",
    "    Both can be nested. A list can contain another list. A dictionary can contain another dictionary. A dictionary can also contain a list, and vice versa.\n",
    "\n",
    "Dictionaries differ from lists primarily in how elements are accessed:\n",
    "\n",
    "    List elements are accessed by their position in the list, via indexing. (e.g. a[0])\n",
    "    Dictionary elements are accessed via keys (e.g. this[\"brand\"]).\n"
   ]
  },
  {
   "cell_type": "code",
   "execution_count": 18,
   "metadata": {},
   "outputs": [
    {
     "name": "stdout",
     "output_type": "stream",
     "text": [
      "Mustang\n",
      "{'brand': 'Ford', 'model': 'Mustang', 'year': 2018}\n",
      "brand Ford\n",
      "model Mustang\n",
      "year 2018\n"
     ]
    }
   ],
   "source": [
    "thisdict ={\n",
    "  \"brand\": \"Ford\",\n",
    "  \"model\": \"Mustang\",\n",
    "  \"year\": 1964\n",
    "}\n",
    "\n",
    "# access and change dictionary \n",
    "x = thisdict[\"model\"]\n",
    "print(x)\n",
    "thisdict[\"year\"] = 2018\n",
    "print(thisdict)\n",
    "\n",
    "# loop through the dictionary\n",
    "for x in thisdict: # x is the key\n",
    "  print(x,thisdict[x]) \n",
    "\n",
    "# try it: change the year to an array [1964, 2020]\n"
   ]
  },
  {
   "cell_type": "code",
   "execution_count": 19,
   "metadata": {},
   "outputs": [
    {
     "name": "stdout",
     "output_type": "stream",
     "text": [
      "<class 'numpy.ndarray'>\n",
      "(2, 3)\n",
      "6.0\n",
      "[-1.00000000e+00 -9.00000000e-01 -8.00000000e-01 -7.00000000e-01\n",
      " -6.00000000e-01 -5.00000000e-01 -4.00000000e-01 -3.00000000e-01\n",
      " -2.00000000e-01 -1.00000000e-01 -2.22044605e-16  1.00000000e-01\n",
      "  2.00000000e-01  3.00000000e-01  4.00000000e-01  5.00000000e-01\n",
      "  6.00000000e-01  7.00000000e-01  8.00000000e-01  9.00000000e-01\n",
      "  1.00000000e+00  1.10000000e+00  1.20000000e+00  1.30000000e+00\n",
      "  1.40000000e+00  1.50000000e+00  1.60000000e+00  1.70000000e+00\n",
      "  1.80000000e+00  1.90000000e+00  2.00000000e+00  2.10000000e+00\n",
      "  2.20000000e+00  2.30000000e+00  2.40000000e+00  2.50000000e+00\n",
      "  2.60000000e+00  2.70000000e+00  2.80000000e+00  2.90000000e+00\n",
      "  3.00000000e+00  3.10000000e+00  3.20000000e+00  3.30000000e+00\n",
      "  3.40000000e+00  3.50000000e+00  3.60000000e+00  3.70000000e+00\n",
      "  3.80000000e+00  3.90000000e+00  4.00000000e+00  4.10000000e+00\n",
      "  4.20000000e+00  4.30000000e+00  4.40000000e+00  4.50000000e+00\n",
      "  4.60000000e+00  4.70000000e+00  4.80000000e+00  4.90000000e+00]\n",
      "[1 2 3 4 5 6 7 8 9]\n"
     ]
    }
   ],
   "source": [
    "# A lot of times, list are used as arrays. But it is more convenient to use Numpy library to generate/operate arrays\n",
    "\n",
    "import numpy as np\n",
    "a=np.array([1,2,3])\n",
    "b=np.array([[1.,2.,3.],[4.,5.,6.]])\n",
    "c=np.arange(-1.,5.,0.1) # number starting at -1, with interval 0.1, ending at 5.0, do not include 0.1\n",
    "d=np.arange(1,10) # 9 numbers\n",
    "\n",
    "print(type(a))\n",
    "print(b.shape)\n",
    "print(b[1,2]) #second row, third coloumn\n",
    "print(c)\n",
    "print(d)"
   ]
  },
  {
   "cell_type": "markdown",
   "metadata": {},
   "source": [
    "##  1.3 Operators and comparisons\n",
    "Normal definition:\n",
    "\n",
    "Arithmetic operators +, -, $*$, /, % (modulus), // (floor division), $**$ (power)"
   ]
  },
  {
   "cell_type": "code",
   "execution_count": 21,
   "metadata": {},
   "outputs": [
    {
     "name": "stdout",
     "output_type": "stream",
     "text": [
      "x + y = 17\n",
      "x - y = 11\n",
      "x * y = 42\n",
      "x / y = 4.666666666666667\n",
      "x // y = 4\n",
      "x % y = 2\n",
      "x ** y = 2744\n"
     ]
    }
   ],
   "source": [
    "x = 14\n",
    "y = 3\n",
    "\n",
    "# Output: x + y = 17\n",
    "print('x + y =',x+y)\n",
    "\n",
    "# Output: x - y = 11\n",
    "print('x - y =',x-y)\n",
    "\n",
    "# Output: x * y = 42\n",
    "print('x * y =',x*y)\n",
    "\n",
    "# Output: x / y = 4.67\n",
    "print('x / y =',x/y) # automatically convert it to float\n",
    "\n",
    "# Output: x // y = 4 \n",
    "# division into integer adjusted to the left in the number line, note negative number)\n",
    "print('x // y =',x//y)\n",
    "\n",
    "# Output: x % y = 4 \n",
    "# modulus (work for both integer and float)\n",
    "print('x % y =',x%y)\n",
    "\n",
    "# Output: x ** y = 2744\n",
    "print('x ** y =',x**y)"
   ]
  },
  {
   "cell_type": "code",
   "execution_count": 14,
   "metadata": {},
   "outputs": [
    {
     "name": "stdout",
     "output_type": "stream",
     "text": [
      "x > y  is False\n",
      "x < y  is True\n",
      "x == y is False\n",
      "x != y is True\n",
      "x >= y is False\n",
      "x <= y is True\n"
     ]
    }
   ],
   "source": [
    "# Comparison operators\n",
    "\n",
    "x = 10\n",
    "y = 12\n",
    "\n",
    "# Output: x > y is False\n",
    "print('x > y  is',x>y)\n",
    "\n",
    "# Output: x < y is True\n",
    "print('x < y  is',x<y)\n",
    "\n",
    "# Output: x == y is False\n",
    "print('x == y is',x==y)\n",
    "\n",
    "# Output: x != y is True\n",
    "print('x != y is',x!=y)\n",
    "\n",
    "# Output: x >= y is False\n",
    "print('x >= y is',x>=y)\n",
    "\n",
    "# Output: x <= y is True\n",
    "print('x <= y is',x<=y)"
   ]
  },
  {
   "cell_type": "code",
   "execution_count": 15,
   "metadata": {},
   "outputs": [
    {
     "name": "stdout",
     "output_type": "stream",
     "text": [
      "x and y is False\n",
      "x or y is True\n",
      "not x is False\n"
     ]
    }
   ],
   "source": [
    "# Logical operators\n",
    "\n",
    "x = True\n",
    "y = False\n",
    "\n",
    "# Output: x and y is False\n",
    "print('x and y is',x and y)\n",
    "\n",
    "# Output: x or y is True\n",
    "print('x or y is',x or y)\n",
    "\n",
    "# Output: not x is False\n",
    "print('not x is',not x)"
   ]
  },
  {
   "cell_type": "code",
   "execution_count": 22,
   "metadata": {},
   "outputs": [
    {
     "name": "stdout",
     "output_type": "stream",
     "text": [
      "True\n",
      "False\n"
     ]
    }
   ],
   "source": [
    "# membership operators: in, not in\n",
    "a=[1,2,3,4]\n",
    "print(1 in a)\n",
    "print(1 not in a)"
   ]
  },
  {
   "cell_type": "markdown",
   "metadata": {},
   "source": [
    "## 1.4 If-else and Indentation\n",
    "\n",
    "One of the most distinctive features of Python is its use of indentation to mark blocks of code.\n",
    "\n",
    "The colon (:) is significant and required. It separates the header of the compound statement from the body.\n",
    "The line after the colon must be indented. It is standard in Python to use four spaces for indenting."
   ]
  },
  {
   "cell_type": "code",
   "execution_count": 25,
   "metadata": {},
   "outputs": [
    {
     "name": "stdout",
     "output_type": "stream",
     "text": [
      "Logging on ...\n",
      "All done!\n"
     ]
    }
   ],
   "source": [
    "pwd='apple'\n",
    "if pwd == 'apple':\n",
    "    print('Logging on ...')\n",
    "else:\n",
    "    print('Incorrect password.')\n",
    "    print('Try again') # multiple lines in one block of code need to have the same indentation\n",
    "\n",
    "print('All done!')"
   ]
  },
  {
   "cell_type": "markdown",
   "metadata": {},
   "source": [
    "## 1.5 Loop\n",
    "\n",
    "For loop and While loop"
   ]
  },
  {
   "cell_type": "code",
   "execution_count": 26,
   "metadata": {},
   "outputs": [
    {
     "name": "stdout",
     "output_type": "stream",
     "text": [
      "Apple\n",
      "Asus\n",
      "Dell\n",
      "Samsung\n"
     ]
    }
   ],
   "source": [
    "# For loop\n",
    "#The for loop that is used to iterate over elements of a sequence, it is often \n",
    "#used when you have a piece of code which you want to repeat \"n\" number of time. \n",
    "\n",
    "#It works like this: \" for all elements in a list, do this \"\n",
    "\n",
    "computer_brands = [\"Apple\", \"Asus\", \"Dell\", \"Samsung\"]\n",
    "for brands in computer_brands:\n",
    "    print(brands)  # need indentation to show it is within for block"
   ]
  },
  {
   "cell_type": "code",
   "execution_count": 32,
   "metadata": {},
   "outputs": [
    {
     "name": "stdout",
     "output_type": "stream",
     "text": [
      "0\n",
      "2\n",
      "4\n",
      "6\n",
      "8\n",
      "10\n",
      "12\n",
      "14\n",
      "16\n",
      "18\n",
      "0.1\n",
      "0.2\n",
      "0.30000000000000004\n",
      "0.4\n",
      "0.5\n",
      "0.6\n",
      "0.7000000000000001\n",
      "0.8\n",
      "0.9\n",
      "9.33262154439441e+157\n"
     ]
    }
   ],
   "source": [
    "# to loop through integers\n",
    "for i in range(10):\n",
    "    c=2*i\n",
    "    print(c)\n",
    "    \n",
    "# to loop through arrays\n",
    "import numpy as np\n",
    "for a in np.arange(0.1,1.0,0.1):\n",
    "    print(a)\n",
    "    \n",
    "# try this, calculate 1+2+3....+100\n",
    "b=1.\n",
    "\n",
    "for i in range(1,101):\n",
    "    b=b*i\n",
    "print(b)"
   ]
  },
  {
   "cell_type": "markdown",
   "metadata": {},
   "source": [
    "Sometimes if you have an array and you want to loop through the array to get both the index and element of the array, you can use ** enumerate** function.\n",
    "\n",
    "Enumerate() method adds a counter to an iterable and returns it in a form of enumerate object. This enumerate object can then be used directly in for loops"
   ]
  },
  {
   "cell_type": "code",
   "execution_count": 33,
   "metadata": {},
   "outputs": [
    {
     "name": "stdout",
     "output_type": "stream",
     "text": [
      "Return type: <class 'enumerate'>\n",
      "[(0, 'eat'), (1, 'sleep'), (2, 'repeat')]\n"
     ]
    }
   ],
   "source": [
    "l1 = [\"eat\",\"sleep\",\"repeat\"] \n",
    "  \n",
    "# creating enumerate objects \n",
    "obj1 = enumerate(l1) \n",
    "\n",
    "print(\"Return type:\",type(obj1) )\n",
    "print(list(enumerate(l1)) )\n"
   ]
  },
  {
   "cell_type": "code",
   "execution_count": 39,
   "metadata": {},
   "outputs": [
    {
     "name": "stdout",
     "output_type": "stream",
     "text": [
      "List index-value are : \n",
      "0 1 2\n",
      "1 4 8\n",
      "2 5 9\n",
      "3 6 10\n",
      "4 7 11\n",
      "0 1 2\n",
      "1 4 8\n",
      "2 5 9\n",
      "3 6 10\n",
      "4 7 11\n"
     ]
    }
   ],
   "source": [
    "# initializing list \n",
    "list1 = [1, 4, 5, 6, 7] \n",
    "list2 = [2, 8, 9, 10, 11]\n",
    "# using enumerate to \n",
    "# get index and value .\n",
    "print (\"List index-value are : \") \n",
    "for index, value in enumerate(list1): \n",
    "    print(index, value, list2[index]) # This saves writing \"list1[index]\" every time.\n",
    "\n",
    "for index in range(len(list1)):\n",
    "    print(index,list1[index],list2[index])"
   ]
  },
  {
   "cell_type": "markdown",
   "metadata": {},
   "source": [
    "## 1.6 Open and Read Files\n"
   ]
  },
  {
   "cell_type": "code",
   "execution_count": 46,
   "metadata": {},
   "outputs": [
    {
     "name": "stdout",
     "output_type": "stream",
     "text": [
      "[8.61138e-05 9.55903e-05 1.04687e-04 1.14222e-04 1.24623e-04 1.35971e-04\n",
      " 1.48349e-04 1.61853e-04 1.76585e-04 1.92655e-04 2.10187e-04 2.29312e-04\n",
      " 2.50175e-04 2.72935e-04 2.97764e-04 3.24849e-04 3.54397e-04 3.86631e-04\n",
      " 4.21794e-04 4.60155e-04 5.02002e-04 5.47652e-04 5.97453e-04 6.51781e-04\n",
      " 7.11046e-04 7.75699e-04 8.46230e-04 9.23171e-04 1.00711e-03 1.09867e-03\n",
      " 1.19856e-03 1.30753e-03 1.42640e-03 1.55608e-03 1.69755e-03 1.85187e-03\n",
      " 2.02023e-03 2.20388e-03 2.40423e-03 2.62280e-03 2.86123e-03 3.12134e-03\n",
      " 3.40508e-03 3.71462e-03 4.05230e-03 4.42068e-03 4.82253e-03 5.26092e-03\n",
      " 5.73916e-03 6.26087e-03 6.83000e-03 7.45086e-03 8.12817e-03 8.86704e-03\n",
      " 9.67307e-03 1.05524e-02 1.15116e-02 1.25580e-02 1.36996e-02 1.49449e-02\n",
      " 1.63034e-02 1.77854e-02 1.94021e-02 2.11658e-02 2.30897e-02 2.51886e-02\n",
      " 2.74783e-02 2.99761e-02 3.27009e-02 3.56735e-02 3.89162e-02 4.24537e-02\n",
      " 4.63128e-02 5.05226e-02 5.51151e-02 6.01251e-02 6.55905e-02 7.15527e-02\n",
      " 7.80569e-02 8.51523e-02 9.28926e-02 1.01337e-01 1.10548e-01 1.20597e-01\n",
      " 1.31559e-01 1.43518e-01 1.56564e-01 1.70795e-01 1.86321e-01 2.03257e-01\n",
      " 2.21733e-01 2.41889e-01 2.63877e-01 2.87863e-01 3.14030e-01 3.42575e-01]\n"
     ]
    }
   ],
   "source": [
    "import numpy as np\n",
    "import matplotlib.pyplot as plt\n",
    "import os\n",
    "\n",
    "file = open('data.tab','r')\n",
    "\n",
    "# Read and ignore header lines\n",
    "header1 = file.readline()\n",
    "header2 = file.readline()\n",
    "x1v = []\n",
    "rho = []\n",
    "vel2 = []\n",
    "for line in file: # Loop through every line in the file\n",
    "    line = line.strip() # The strip() removes characters from both left and right \n",
    "    columns = line.split() # Split the string into many columns\n",
    "    x1v = np.append(x1v,float(columns[1])) # convert the column into floating numbers\n",
    "    rho = np.append(rho,float(columns[2]))\n",
    "    vel2 = np.append(vel2,float(columns[5]))\n",
    "print(x1v)"
   ]
  },
  {
   "cell_type": "code",
   "execution_count": 23,
   "metadata": {},
   "outputs": [
    {
     "ename": "IndentationError",
     "evalue": "expected an indented block (<ipython-input-23-f4495a311f66>, line 16)",
     "output_type": "error",
     "traceback": [
      "\u001b[0;36m  File \u001b[0;32m\"<ipython-input-23-f4495a311f66>\"\u001b[0;36m, line \u001b[0;32m16\u001b[0m\n\u001b[0;31m    return(data)\u001b[0m\n\u001b[0m         ^\u001b[0m\n\u001b[0;31mIndentationError\u001b[0m\u001b[0;31m:\u001b[0m expected an indented block\n"
     ]
    }
   ],
   "source": [
    "# A little bit more complicated data readin\n",
    "import numpy as np\n",
    "import matplotlib.pyplot as plt\n",
    "import sys\n",
    "\n",
    "# now define a function to read in files\n",
    "def readfile(name):\n",
    " f = open(name,'r')\n",
    " header1 = f.readline() # one header line\n",
    " header2 = f.readline()\n",
    " data={'ind':[],'x1v':[],'rho':[],'press':[],'vel1':[],'vel2':[],'vel3':[]} # use dictionary to organize the arrays, each element is an array \n",
    " for line in f:\n",
    "    # try yourself to readin the data to the dictionary\n",
    "   \n",
    "   ##\n",
    " return(data)\n",
    "\n",
    "readfile(\"data.tab\")"
   ]
  },
  {
   "cell_type": "markdown",
   "metadata": {},
   "source": [
    "# 2 Making Plots\n",
    "  \n",
    "## 2.1 VPython (Optional)\n",
    "\n",
    "VPython can make 2-D plots\n",
    "\n",
    "vpython plot basically add point by point"
   ]
  },
  {
   "cell_type": "code",
   "execution_count": 1,
   "metadata": {
    "scrolled": true
   },
   "outputs": [
    {
     "data": {
      "application/javascript": [
       "require.undef(\"nbextensions/vpython_libraries/glow.min\");"
      ],
      "text/plain": [
       "<IPython.core.display.Javascript object>"
      ]
     },
     "metadata": {},
     "output_type": "display_data"
    },
    {
     "data": {
      "application/javascript": [
       "require.undef(\"nbextensions/vpython_libraries/glowcomm\");"
      ],
      "text/plain": [
       "<IPython.core.display.Javascript object>"
      ]
     },
     "metadata": {},
     "output_type": "display_data"
    },
    {
     "data": {
      "application/javascript": [
       "require.undef(\"nbextensions/vpython_libraries/jquery-ui.custom.min\");"
      ],
      "text/plain": [
       "<IPython.core.display.Javascript object>"
      ]
     },
     "metadata": {},
     "output_type": "display_data"
    },
    {
     "data": {
      "application/javascript": [
       "require([\"nbextensions/vpython_libraries/glow.min\"], function(){console.log(\"GLOW LOADED\");})"
      ],
      "text/plain": [
       "<IPython.core.display.Javascript object>"
      ]
     },
     "metadata": {},
     "output_type": "display_data"
    },
    {
     "data": {
      "application/javascript": [
       "require([\"nbextensions/vpython_libraries/glowcomm\"], function(){console.log(\"GLOWCOMM LOADED\");})"
      ],
      "text/plain": [
       "<IPython.core.display.Javascript object>"
      ]
     },
     "metadata": {},
     "output_type": "display_data"
    },
    {
     "data": {
      "application/javascript": [
       "require([\"nbextensions/vpython_libraries/jquery-ui.custom.min\"], function(){console.log(\"JQUERY LOADED\");})"
      ],
      "text/plain": [
       "<IPython.core.display.Javascript object>"
      ]
     },
     "metadata": {},
     "output_type": "display_data"
    },
    {
     "data": {
      "text/html": [
       "<div id=\"glowscript\" class=\"glowscript\"></div>"
      ],
      "text/plain": [
       "<IPython.core.display.HTML object>"
      ]
     },
     "metadata": {},
     "output_type": "display_data"
    },
    {
     "data": {
      "application/javascript": [
       "window.__context = { glowscript_container: $(\"#glowscript\").removeAttr(\"id\")}"
      ],
      "text/plain": [
       "<IPython.core.display.Javascript object>"
      ]
     },
     "metadata": {},
     "output_type": "display_data"
    },
    {
     "data": {
      "text/html": [
       "<div id=\"glowscript\" class=\"glowscript\"></div>"
      ],
      "text/plain": [
       "<IPython.core.display.HTML object>"
      ]
     },
     "metadata": {},
     "output_type": "display_data"
    },
    {
     "data": {
      "application/javascript": [
       "window.__context = { glowscript_container: $(\"#glowscript\").removeAttr(\"id\")}"
      ],
      "text/plain": [
       "<IPython.core.display.Javascript object>"
      ]
     },
     "metadata": {},
     "output_type": "display_data"
    }
   ],
   "source": [
    "from vpython import * # must import vpython first\n",
    "scene = canvas() # with this you don't need to restart kernel each time\n",
    "\n",
    "f1 = gcurve(color=color.cyan)\t# a graphics curve\n",
    "for x in arange(0, 8.05, 0.1):\t# x goes from 0 to 8\n",
    "    f1.plot(pos=(x,5*cos(2*x)*exp(-0.2*x)))\t# plot\n",
    "    \n",
    "f2 = gvbars(delta=0.05, color=color.blue) # a bar curve\n",
    "for x in arange(0, 8.05, 0.1):\t# x goes from 0 to 8\n",
    "    f2.plot(pos=(x,3*cos(2*x)*exp(-0.2*x)))\t# plot"
   ]
  },
  {
   "cell_type": "markdown",
   "metadata": {},
   "source": [
    "VPython is good at making 3D object"
   ]
  },
  {
   "cell_type": "code",
   "execution_count": 2,
   "metadata": {
    "scrolled": true
   },
   "outputs": [],
   "source": [
    "from vpython import *\n",
    "Sue=sphere(pos = vector(-1,0,0), radius=0.5, color=color.green) # make the first sphere at pos\n",
    "Bob=sphere(pos = vector(1,1,0), radius=0.5, color=color.green) # make the second sphere\n",
    "arrow(pos=Sue.pos,axis=Bob.pos-Sue.pos,color=color.red) # make an arrow pointint from Sue to Bob"
   ]
  },
  {
   "cell_type": "markdown",
   "metadata": {},
   "source": [
    "You can even make animations"
   ]
  },
  {
   "cell_type": "code",
<<<<<<< HEAD
   "execution_count": 11,
   "metadata": {},
=======
   "execution_count": 3,
   "metadata": {
    "scrolled": false
   },
>>>>>>> upstream/main
   "outputs": [
    {
     "data": {
      "text/html": [
       "<div id=\"glowscript\" class=\"glowscript\"></div>"
      ],
      "text/plain": [
       "<IPython.core.display.HTML object>"
      ]
     },
     "metadata": {},
     "output_type": "display_data"
    },
    {
     "data": {
      "application/javascript": [
       "window.__context = { glowscript_container: $(\"#glowscript\").removeAttr(\"id\")}"
      ],
      "text/plain": [
       "<IPython.core.display.Javascript object>"
      ]
     },
     "metadata": {},
     "output_type": "display_data"
    }
   ],
   "source": [
    "from vpython import *\n",
    "scene2 = canvas(title='Ring and Ball',\n",
    "     width=600, height=300,\n",
    "     center=vector(0,1,2), forward=vector(0,-0.5,-1), background=color.cyan) # set the camera\n",
    "# y is pointing up, z is pointing inwards, for the ring, axis is the direction it is pointing\n",
    "Sue=ring(pos = vector(0,0,0), axis=vector(0,1,0), radius=1, thickness=0.3, color=color.green)\n",
    "Bob=sphere(pos = vector(0,5,0), radius=0.5, color=color.cyan)\n",
    "arr=helix(pos=Sue.pos,axis=Bob.pos-Sue.pos,radius=0.5,color=color.red) # plot the helix\n",
    "\n",
    "r = Bob.pos\n",
    "while r.y > -5.:\n",
    "    rate(10)   # slow down the animation\n",
    "    Bob.pos = r\n",
    "    c=Bob.pos - Sue.pos\n",
    "    arr.axis = c  # update the helix length\n",
    "    r.y = r.y - 0.1 # update Bob the sphere's position"
   ]
  },
  {
   "cell_type": "markdown",
   "metadata": {},
   "source": [
    "## 2.2 Matplotlib\n",
    "\n",
    "Powerful plotting package. Most commonly used python plotting tool. Has similar commands as MATLAB. Uses the NumPy array objects to store the data to plot. Different from VPython which adds points one by one. "
   ]
  },
  {
   "cell_type": "code",
<<<<<<< HEAD
   "execution_count": 2,
=======
   "execution_count": 4,
>>>>>>> upstream/main
   "metadata": {},
   "outputs": [
    {
     "name": "stdout",
     "output_type": "stream",
     "text": [
      "arange => x[0], x[1],x[499]=   -5.00    -4.98     4.98\n",
      "arange => y[0], y[1],y[499]=   -0.13    -0.31     0.31\n",
      "\n",
      " Now doing the plotting thing, look for Figure 1 on desktop\n"
     ]
    },
    {
     "data": {
      "image/png": "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\n",
      "text/plain": [
<<<<<<< HEAD
       "<Figure size 432x288 with 1 Axes>"
=======
       "<matplotlib.figure.Figure at 0x7ff098c9a780>"
>>>>>>> upstream/main
      ]
     },
     "metadata": {
      "needs_background": "light"
     },
     "output_type": "display_data"
    }
   ],
   "source": [
    "\"\"\" From \"COMPUTATIONAL PHYSICS\", 3rd Ed, Enlarged Python eTextBook  \n",
    "    by RH Landau, MJ Paez, and CC Bordeianu\n",
    "    Copyright Wiley-VCH Verlag GmbH & Co. KGaA, Berlin;  Copyright R Landau,\n",
    "    Oregon State Unv, MJ Paez, Univ Antioquia, C Bordeianu, Univ Bucharest, 2015.\n",
    "    Support by National Science Foundation\"\"\"                                                       \n",
    "\n",
    "# EasyMatPlot.py:                 Simple use of matplotlib's plot command \n",
    "from pylab import *           # Load Matplotlib\n",
    "\n",
    "Xmin = -5.0;        Xmax = +5.0;      Npoints= 500\n",
    "DelX= (Xmax-Xmin)/Npoints                                      # Delta x\n",
    "x = arange(Xmin, Xmax, DelX)      # Form x array in range with increment \n",
    "y =  sin(x)*sin(x*x)              # y array = function of x array\n",
    "\n",
    "print ('arange => x[0], x[1],x[499]=%8.2f %8.2f %8.2f' %(x[0],x[1],x[499]))\n",
    "print ('arange => y[0], y[1],y[499]=%8.2f %8.2f %8.2f' %(y[0],y[1],y[499]))\n",
    "print (\"\\n Now doing the plotting thing, look for Figure 1 on desktop\" )                                                                                       \n",
    "xlabel('x');      ylabel('f(x)');     title(' f(x) vs x')        # labels\n",
    "text(-1.85,  0.75, 'MatPlotLib Example')                     # Text on plot\n",
    "plot(x, y, '-', lw=2)                                 # dash means it is a line                     \n",
    "grid(True)                                                    # Form grid\n",
    "show()                                                 # Make screen plot"
   ]
  },
  {
   "cell_type": "code",
<<<<<<< HEAD
   "execution_count": 4,
=======
   "execution_count": 13,
>>>>>>> upstream/main
   "metadata": {},
   "outputs": [
    {
     "data": {
      "image/png": "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\n",
      "text/plain": [
<<<<<<< HEAD
       "<Figure size 432x288 with 1 Axes>"
=======
       "<matplotlib.figure.Figure at 0x7ff09a7a3048>"
>>>>>>> upstream/main
      ]
     },
     "metadata": {
      "needs_background": "light"
     },
     "output_type": "display_data"
    }
   ],
   "source": [
    "x=np.arange(-2.*3.14,2.*3.14,0.1)\n",
    "y=sin(x)\n",
    "y2=x\n",
    "y3=x-1./6.*x**3\n",
    "plt.plot(x,y)\n",
    "plt.plot(x,y2)\n",
    "plt.plot(x,y3)\n",
    "plt.ylim(-2,2)\n",
    "plt.show()"
   ]
  },
  {
   "cell_type": "code",
   "execution_count": 14,
   "metadata": {},
   "outputs": [],
   "source": [
    "# Please make a plot showing y=x, y=x-1./6.*x^3, together with y=sin(x) from -2pi to 2pi. \n",
    "# Please limit the y axis range from -2 to 2. (using plt.ylim(a,b) function)"
   ]
  },
  {
   "cell_type": "code",
   "execution_count": 15,
   "metadata": {},
   "outputs": [
    {
     "data": {
      "image/png": "iVBORw0KGgoAAAANSUhEUgAAAYQAAAEWCAYAAABmE+CbAAAABHNCSVQICAgIfAhkiAAAAAlwSFlz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\n",
      "text/plain": [
       "<matplotlib.figure.Figure at 0x7ff09a7ea278>"
      ]
     },
     "metadata": {},
     "output_type": "display_data"
    }
   ],
   "source": [
    "\"\"\" From \"COMPUTATIONAL PHYSICS\", 3rd Ed, Enlarged Python eTextBook  \n",
    "    by RH Landau, MJ Paez, and CC Bordeianu\n",
    "    Copyright Wiley-VCH Verlag GmbH & Co. KGaA, Berlin;  Copyright R Landau,\n",
    "    Oregon State Unv, MJ Paez, Univ Antioquia, C Bordeianu, Univ Bucharest, 2015.\n",
    "    Support by National Science Foundation\"\"\"\n",
    "\n",
    "# Grade.py: Using Matplotlib's plot command with multi data sets & curves\n",
    "\n",
    "import pylab as p                           # import Matplotlib label it as p\n",
    "from numpy import *                                 # import numpy library\n",
    "\n",
    "p.title('Grade Inflation')                             # Title and labels\n",
    "p.xlabel('Years in College')\n",
    "p.ylabel('GPA')\n",
    "\n",
    "xa = array([-1, 5])                                 # For horizontal line\n",
    "ya = array([0, 0])                                       # Array of zeros\n",
    "p.plot(xa, ya)                                     # Draw horizontal line\n",
    "                                                   \n",
    "x0 = array([0, 1, 2, 3, 4])                           # Data set 0 points\n",
    "y0 = array([-1.4, +1.1, 2.2, 3.3, 4.0])\n",
    "p.plot(x0, y0, 'bo')                          # Data set 0 = blue circles\n",
    "p.plot(x0, y0, 'g')                                   # Data set 0 = line\n",
    "\n",
    "y1 = array([4.0, 2.7, -1.8, -0.9, 2.6])               # Data set 1 points\n",
    "t = arange(0, 5, 1)\n",
    "p.plot(t, y1, 'r')                                          \n",
    "\n",
    "err1sup = array([1.0, 0.3, 1.2, 0.4, 0.1])        # Asymmetric error bars\n",
    "err1inf = array([2.0, 0.6, 2.3, 1.8, 0.4])                    \n",
    "p.errorbar(t, y1, [err1inf, err1sup], fmt = 'o')        # Plot error bars\n",
    "\n",
    "p.grid(True)                                                  # Grid line\n",
    "p.show()                                          # Create plot on screen"
   ]
  },
  {
   "cell_type": "markdown",
   "metadata": {},
   "source": [
    "It can also plot 3-D data.   \n",
    "Two ways:  \n",
    "1) 3-D surface  \n",
    "2) 2-D color contour"
   ]
  },
  {
   "cell_type": "code",
   "execution_count": 19,
   "metadata": {},
   "outputs": [
    {
     "data": {
      "image/png": "iVBORw0KGgoAAAANSUhEUgAAAOQAAADvCAYAAADikHhOAAAABHNCSVQICAgIfAhkiAAAAAlwSFlz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\nN20AAAAASUVORK5CYII=\n",
      "text/plain": [
       "<matplotlib.figure.Figure at 0x7ff09aa69e10>"
      ]
     },
     "metadata": {},
     "output_type": "display_data"
    }
   ],
   "source": [
    "# Plot the potential of a point mass with two methods (two subplots)\n",
    "\n",
    "import matplotlib.pylab  as p                                     \n",
    "from mpl_toolkits.mplot3d import Axes3D        \n",
    "\n",
    "# to make 3-D plot, need Axes3D package from matplot tool kit\n",
    "\n",
    "delta = 0.1\n",
    "x = p.arange( -3., 3., delta )\n",
    "y = p.arange( -3., 3., delta )\n",
    "X, Y = p.meshgrid(x, y)                 # set coordinate grid matrix, X, Y are 2D array\n",
    "smooth = 0.3                            # smoothing length to avoid singularity\n",
    "Z = -1./p.sqrt(X*X+Y*Y+smooth*smooth)                               # Surface height\n",
    "\n",
    "fig = p.figure()                                    # Create figure\n",
    "\n",
    "ax = fig.add_subplot(2,2,1)\n",
    "levels=p.arange(Z.min(),Z.max(),(Z.max() - Z.min())/100.) #contour levels#\n",
    "CS=p.contour(x,y,Z, levels=levels)\n",
    "# CS=p.contourf(x,y,Z, levels=levels)\n",
    "p.xlabel('X')\n",
    "p.ylabel('Y')\n",
    "p.colorbar(CS)\n",
    "\n",
    "ax = fig.add_subplot(2,2,3,projection='3d')          # the 2 by 2, 4 subplots, the first one\n",
    "ax.plot_surface(X, Y, Z)                            # Surface\n",
    "ax.plot_wireframe(X, Y, Z, color = 'r')               # Add wireframe\n",
    "ax.set_xlabel('X')\n",
    "ax.set_ylabel('Y')\n",
    "ax.set_zlabel('Z')\n",
    "\n",
    "\n",
    "p.show()                                             # Output figure"
   ]
  },
  {
   "cell_type": "code",
   "execution_count": 35,
   "metadata": {},
   "outputs": [
    {
     "name": "stdout",
     "output_type": "stream",
     "text": [
      "(60, 60) (60, 60) (60, 60)\n"
     ]
    }
   ],
   "source": [
    "print(X.shape, Y.shape, Z.shape)"
   ]
  },
  {
   "cell_type": "code",
   "execution_count": 40,
   "metadata": {},
   "outputs": [
    {
     "name": "stdout",
     "output_type": "stream",
     "text": [
      "(60,) (60,) (60, 60)\n"
     ]
    }
   ],
   "source": [
    "print(x.shape,y.shape,Z.shape)"
   ]
  },
  {
   "cell_type": "markdown",
   "metadata": {},
   "source": [
    "# Homework\n",
    "\n",
    "1) \n",
    "\n",
    "Write a program to plot\n",
    "\\begin{equation}\n",
    "f(x)=\\pi/2+2*(sin(x)+sin(3x)/3+sin(5x)/5+....sin(nx)/n)\n",
    "\\end{equation}\n",
    "from -$\\pi$ to $\\pi$. Choose n=11, 21 and 31 and plot three curves in one figure. Please use numpy library and matplotlib.\n",
    "\n",
    "Then setup your github account and commit this to your github.\n",
    "\n",
    "2) For graduate student\n",
    "\n",
    "Write your own Vpython program to generate a simple animation. "
   ]
  }
 ],
 "metadata": {
  "kernelspec": {
   "display_name": "Python 3",
   "language": "python",
   "name": "python3"
  },
  "language_info": {
   "codemirror_mode": {
    "name": "ipython",
    "version": 3
   },
   "file_extension": ".py",
   "mimetype": "text/x-python",
   "name": "python",
   "nbconvert_exporter": "python",
   "pygments_lexer": "ipython3",
   "version": "3.8.5"
  }
 },
 "nbformat": 4,
 "nbformat_minor": 4
}
