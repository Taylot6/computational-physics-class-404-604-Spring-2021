{
 "cells": [
  {
   "cell_type": "markdown",
   "metadata": {},
   "source": [
    "# Trevor Taylor"
   ]
  },
  {
   "cell_type": "markdown",
   "metadata": {},
   "source": [
    "## Solve the equations \n",
    "\n",
    "$$ x_1^2 + x_1 x_2 = 10 $$  \n",
    "\n",
    "$$ x_2 + 3x_1 x_2^2 = 57 $$"
   ]
  },
  {
   "cell_type": "code",
   "execution_count": 64,
   "metadata": {},
   "outputs": [],
   "source": [
    "import numpy as np\n",
    "\n",
    "\n",
    "#create functions for the two equations that are using\n",
    "def f1(x):\n",
    "    return x[0]**2 + x[0]*x[1] - 10\n",
    "\n",
    "def f2(x):\n",
    "    return x[1] + 3*x[0]*(x[1]**2) - 57\n",
    "\n",
    "# inital guess\n",
    "x0 = [-2, 6]\n",
    "eps = 1.e-8\n",
    "iteration = 50\n",
    "\n",
    "# function we are calling\n",
    "def newtonRasphin(x, Nmax, eps, f1, f2):\n",
    "    for i in range(Nmax):\n",
    "        # elements of the jacobian in abcd format\n",
    "        a = 2*x[0] + x[1]\n",
    "        b = x[0]\n",
    "        c = 3*x[1]**2\n",
    "        d = 1 + 6*x[0]*x[1]\n",
    "        \n",
    "        # the calculated delta x1 and x2\n",
    "        dx1 = (b*f2(x) - d*f1(x))/(a*d-b*c)\n",
    "        dx2 = (c*f1(x) - a*f2(x))/(a*d-b*c)\n",
    "        \n",
    "        # updating our values of x1 and x2\n",
    "        x[0] = x[0] + dx1\n",
    "        x[1] = x[1] + dx2\n",
    "        \n",
    "        # see our progress\n",
    "        #print(x)\n",
    "        \n",
    "        # if we get an epsilon within 0 then stop\n",
    "        if (abs(f1(x)) < eps) & (abs(f2(x)) < eps):\n",
    "            # stops the loop\n",
    "            break\n",
    "            \n",
    "    return x"
   ]
  },
  {
   "cell_type": "code",
   "execution_count": 65,
   "metadata": {},
   "outputs": [
    {
     "data": {
      "text/plain": [
       "[4.393744193288608, -2.1177810147141996]"
      ]
     },
     "execution_count": 65,
     "metadata": {},
     "output_type": "execute_result"
    }
   ],
   "source": [
    "newtonRasphin(x0, iteration, eps, f1, f2)"
   ]
  },
  {
   "cell_type": "code",
   "execution_count": 77,
   "metadata": {},
   "outputs": [
    {
     "name": "stdout",
     "output_type": "stream",
     "text": [
      "starting =  [ 3.63501388 -0.86858282]\n",
      "roots =  [ 4.39374419 -2.11778101] \n",
      "\n",
      "starting =  [-4.51684597 -4.92562405]\n",
      "roots =  [ 4.39374419 -2.11778101] \n",
      "\n",
      "starting =  [-1.00011215 -1.192467  ]\n",
      "roots =  [2. 3.] \n",
      "\n",
      "starting =  [ 2.24547959 -1.11787077]\n",
      "roots =  [ 4.39374419 -2.11778101] \n",
      "\n",
      "starting =  [-0.76172773  2.8607849 ]\n",
      "roots =  [ 4.39374419 -2.11778101] \n",
      "\n",
      "starting =  [ 2.67627593 -0.3385068 ]\n",
      "roots =  [ 4.39374419 -2.11778101] \n",
      "\n",
      "starting =  [-2.52306866 -1.13457476]\n",
      "roots =  [2. 3.] \n",
      "\n",
      "starting =  [-3.14602827  1.36022963]\n",
      "roots =  [-5.02102051  3.28491849] \n",
      "\n",
      "starting =  [-1.53759219  1.03643751]\n",
      "roots =  [ 4.39374419 -2.11778101] \n",
      "\n",
      "starting =  [1.59456632 0.15988933]\n",
      "roots =  [2. 3.] \n",
      "\n",
      "starting =  [4.78713652 3.13605469]\n",
      "roots =  [2. 3.] \n",
      "\n",
      "starting =  [-2.16207781 -1.68602717]\n",
      "roots =  [ 4.39374419 -2.11778101] \n",
      "\n",
      "starting =  [ 3.84199796 -0.25526985]\n",
      "roots =  [ 4.39374419 -2.11778101] \n",
      "\n",
      "starting =  [-1.07038945  4.32709711]\n",
      "roots =  [ 4.39374419 -2.11778101] \n",
      "\n",
      "starting =  [3.80475374 1.70193804]\n",
      "roots =  [2. 3.] \n",
      "\n",
      "starting =  [ 4.60749572 -3.08181652]\n",
      "roots =  [ 4.39374419 -2.11778101] \n",
      "\n",
      "starting =  [-4.53393918  4.72678808]\n",
      "roots =  [2. 3.] \n",
      "\n",
      "starting =  [-2.10709295  1.13991874]\n",
      "roots =  [2. 3.] \n",
      "\n",
      "starting =  [-4.70337681  2.40608854]\n",
      "roots =  [ 4.39374419 -2.11778101] \n",
      "\n",
      "starting =  [-0.05573893  4.11429765]\n",
      "roots =  [2. 3.] \n",
      "\n"
     ]
    }
   ],
   "source": [
    "# Quick iteration to see if there are multiple roots depending on intial guess\n",
    "for i in range(20):\n",
    "    x0 = 10 * np.random.random(2) - 5 \n",
    "    print(\"starting = \", x0)\n",
    "    print(\"roots = \", newtonRasphin(x0, iteration, eps, f1, f2), \"\\n\")"
   ]
  },
  {
   "cell_type": "markdown",
   "metadata": {},
   "source": [
    "It appears that there are roots are both (2, 3) and at (4.3937, -2.1177) this is possible since this is a nonlinear equation, and it is not required that there is only one solution to this problem."
   ]
  },
  {
   "cell_type": "code",
   "execution_count": null,
   "metadata": {},
   "outputs": [],
   "source": []
  }
 ],
 "metadata": {
  "kernelspec": {
   "display_name": "Python 3",
   "language": "python",
   "name": "python3"
  },
  "language_info": {
   "codemirror_mode": {
    "name": "ipython",
    "version": 3
   },
   "file_extension": ".py",
   "mimetype": "text/x-python",
   "name": "python",
   "nbconvert_exporter": "python",
   "pygments_lexer": "ipython3",
   "version": "3.8.5"
  }
 },
 "nbformat": 4,
 "nbformat_minor": 4
}
